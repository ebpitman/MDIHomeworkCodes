{
 "cells": [
  {
   "cell_type": "code",
   "execution_count": 60,
   "id": "bb108217",
   "metadata": {},
   "outputs": [
    {
     "data": {
      "text/plain": [
       "(20, 3)"
      ]
     },
     "execution_count": 60,
     "metadata": {},
     "output_type": "execute_result"
    }
   ],
   "source": [
    "#Importing required libraries\n",
    "import numpy as np\n",
    "import matplotlib.pyplot as plt\n",
    "import pandas as pd\n",
    "\n",
    "#Generate a dummy dataset.\n",
    "X = np.random.randint(10,50,60).reshape(20,3) \n",
    "X.shape\n",
    "\n",
    "# mean Centering the data  \n",
    "X_meaned = X - np.mean(X , axis = 0)\n",
    "#X_meaned\n",
    "#X_meaned.shape\n"
   ]
  },
  {
   "cell_type": "code",
   "execution_count": 42,
   "id": "78ce6cb8",
   "metadata": {},
   "outputs": [
    {
     "data": {
      "text/plain": [
       "(3, 3)"
      ]
     },
     "execution_count": 42,
     "metadata": {},
     "output_type": "execute_result"
    }
   ],
   "source": [
    "# calculating the covariance matrix of the mean-centered data.\n",
    "cov_mat = np.cov(X_meaned , rowvar = False)\n",
    "cov_mat.shape"
   ]
  },
  {
   "cell_type": "code",
   "execution_count": 50,
   "id": "b08028e2",
   "metadata": {},
   "outputs": [
    {
     "data": {
      "text/plain": [
       "array([[ 0.96506413,  0.07388987, -0.25137923],\n",
       "       [ 0.19060396, -0.85628461,  0.48004874],\n",
       "       [-0.17978143, -0.51119169, -0.84045326]])"
      ]
     },
     "execution_count": 50,
     "metadata": {},
     "output_type": "execute_result"
    }
   ],
   "source": [
    "#Calculating Eigenvalues and Eigenvectors of the covariance matrix\n",
    "evalues, evectors = np.linalg.eigh(cov_mat)\n",
    "evalues\n",
    "evectors"
   ]
  },
  {
   "cell_type": "code",
   "execution_count": 52,
   "id": "47471814",
   "metadata": {},
   "outputs": [
    {
     "data": {
      "text/plain": [
       "array([[-0.25137923,  0.07388987,  0.96506413],\n",
       "       [ 0.48004874, -0.85628461,  0.19060396],\n",
       "       [-0.84045326, -0.51119169, -0.17978143]])"
      ]
     },
     "execution_count": 52,
     "metadata": {},
     "output_type": "execute_result"
    }
   ],
   "source": [
    "#sort the eigenvalues in descending order\n",
    "sortedindex = np.argsort(evalues)[::-1]\n",
    " \n",
    "sortedevalue = evalues[sortedindex]\n",
    "#similarly sort the eigenvectors \n",
    "sortedevectors = evectors[:,sortedindex]\n",
    "\n",
    "sortedevectors"
   ]
  },
  {
   "cell_type": "code",
   "execution_count": 56,
   "id": "70ea0a30",
   "metadata": {},
   "outputs": [
    {
     "data": {
      "text/plain": [
       "array([[-0.25137923,  0.07388987],\n",
       "       [ 0.48004874, -0.85628461],\n",
       "       [-0.84045326, -0.51119169]])"
      ]
     },
     "execution_count": 56,
     "metadata": {},
     "output_type": "execute_result"
    }
   ],
   "source": [
    "# select the first n eigenvectors, n is desired dimension\n",
    "# of our final reduced data.\n",
    " \n",
    "n_components = 2 #you can select any number of components.\n",
    "evectorsubset = sortedevectors[:,0:n_components]\n",
    "\n",
    "evectorsubset"
   ]
  },
  {
   "cell_type": "code",
   "execution_count": 57,
   "id": "d191a004",
   "metadata": {},
   "outputs": [
    {
     "data": {
      "text/plain": [
       "array([[ 11.76813534,  10.87294164],\n",
       "       [  1.26929738,   5.79059805],\n",
       "       [ -9.16907921,  16.46749769],\n",
       "       [ -7.7530069 , -16.86373914],\n",
       "       [ 26.45272581,  -3.86974886],\n",
       "       [ 24.49016286,  -7.79922106],\n",
       "       [  2.85169719,  17.61269061],\n",
       "       [-14.08447942,  -8.56605864],\n",
       "       [  4.65235563,  -5.60380598],\n",
       "       [-17.51904535,   1.0687043 ],\n",
       "       [  3.20011125,  -1.2996675 ],\n",
       "       [-17.69777941,  11.47818352],\n",
       "       [ -6.61586265,   7.00569147],\n",
       "       [  2.61408869,  -7.82234999],\n",
       "       [ 10.05390016,  12.80718049],\n",
       "       [ -5.91156005, -18.74926509],\n",
       "       [-12.53530791,  -9.69354629],\n",
       "       [  5.53054584,  22.17595729],\n",
       "       [ -5.80557887, -17.47921459],\n",
       "       [  4.20867965,  -7.53282792]])"
      ]
     },
     "execution_count": 57,
     "metadata": {},
     "output_type": "execute_result"
    }
   ],
   "source": [
    "#Transform the data \n",
    "X_reduced = np.dot(evectorsubset.transpose(),X_meaned.transpose()).transpose()\n",
    "\n",
    "X_reduced"
   ]
  },
  {
   "cell_type": "code",
   "execution_count": null,
   "id": "5c8cbbd7",
   "metadata": {},
   "outputs": [],
   "source": []
  }
 ],
 "metadata": {
  "kernelspec": {
   "display_name": "Python 3",
   "language": "python",
   "name": "python3"
  },
  "language_info": {
   "codemirror_mode": {
    "name": "ipython",
    "version": 3
   },
   "file_extension": ".py",
   "mimetype": "text/x-python",
   "name": "python",
   "nbconvert_exporter": "python",
   "pygments_lexer": "ipython3",
   "version": "3.8.8"
  }
 },
 "nbformat": 4,
 "nbformat_minor": 5
}

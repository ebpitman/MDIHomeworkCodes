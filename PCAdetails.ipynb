{
 "cells": [
  {
   "cell_type": "code",
   "execution_count": 87,
   "id": "e3600f62",
   "metadata": {},
   "outputs": [],
   "source": [
    "import numpy as np\n",
    "import pandas as pd\n",
    "import matplotlib.pyplot as plt\n",
    "from sklearn.decomposition import PCA\n",
    "from sklearn.model_selection import train_test_split\n",
    "from sklearn.preprocessing import StandardScaler"
   ]
  },
  {
   "cell_type": "code",
   "execution_count": 112,
   "id": "893be260",
   "metadata": {},
   "outputs": [
    {
     "data": {
      "text/plain": [
       "0     Lattice Mismatch\n",
       "1                 0.18\n",
       "2                 0.00\n",
       "3                 0.13\n",
       "4                 0.13\n",
       "5                 0.20\n",
       "6                 0.03\n",
       "7                 0.02\n",
       "8                 0.02\n",
       "9                 0.17\n",
       "10                0.12\n",
       "11                0.21\n",
       "12                0.22\n",
       "13                0.25\n",
       "14                0.08\n",
       "15                0.33\n",
       "16                0.03\n",
       "17                0.11\n",
       "18                0.15\n",
       "19                0.01\n",
       "20                0.07\n",
       "21                0.09\n",
       "22                0.10\n",
       "23                0.09\n",
       "24                0.07\n",
       "25                0.07\n",
       "26                0.24\n",
       "27                0.08\n",
       "28                0.26\n",
       "29                0.15\n",
       "30                0.08\n",
       "31                0.14\n",
       "32                0.07\n",
       "33                0.11\n",
       "34                0.30\n",
       "35                0.10\n",
       "36                0.22\n",
       "Name: Unnamed: 2, dtype: object"
      ]
     },
     "execution_count": 112,
     "metadata": {},
     "output_type": "execute_result"
    }
   ],
   "source": [
    "df=pd.read_csv('Co3Alx_data.csv')\n",
    "df=df[df.columns[1:38 :]] \n",
    "#df.shape\n",
    "#df.head() # Inspect the first 5 rows\n",
    "COdf=df[df.columns[0:38 :]]\n",
    "#COdf.head\n",
    "COdf.iloc[:,1]"
   ]
  },
  {
   "cell_type": "code",
   "execution_count": 114,
   "id": "3091f715",
   "metadata": {},
   "outputs": [
    {
     "data": {
      "image/png": "[encoded data removed]",
      "text/plain": [
       "<Figure size 1152x648 with 1 Axes>"
      ]
     },
     "metadata": {
      "needs_background": "light"
     },
     "output_type": "display_data"
    }
   ],
   "source": [
    "fig = plt.figure(figsize = (16, 9))\n",
    "plt.scatter(COdf.iloc[:,1],COdf.iloc[:,4])\n",
    "plt.show()\n",
    "\n"
   ]
  },
  {
   "cell_type": "code",
   "execution_count": 101,
   "id": "621d5045",
   "metadata": {},
   "outputs": [],
   "source": [
    "scaler = StandardScaler(with_mean=True, with_std=True)\n",
    "X = scaler.fit_transform(COdf.iloc[1:38,1:10])"
   ]
  },
  {
   "cell_type": "code",
   "execution_count": 107,
   "id": "8056fbfb",
   "metadata": {},
   "outputs": [
    {
     "data": {
      "text/html": [
       "<div>\n",
       "<style scoped>\n",
       "    .dataframe tbody tr th:only-of-type {\n",
       "        vertical-align: middle;\n",
       "    }\n",
       "\n",
       "    .dataframe tbody tr th {\n",
       "        vertical-align: top;\n",
       "    }\n",
       "\n",
       "    .dataframe thead th {\n",
       "        text-align: right;\n",
       "    }\n",
       "</style>\n",
       "<table border=\"1\" class=\"dataframe\">\n",
       "  <thead>\n",
       "    <tr style=\"text-align: right;\">\n",
       "      <th></th>\n",
       "      <th>pc1</th>\n",
       "      <th>pc2</th>\n",
       "      <th>pc3</th>\n",
       "    </tr>\n",
       "  </thead>\n",
       "  <tbody>\n",
       "    <tr>\n",
       "      <th>0</th>\n",
       "      <td>-2.055220</td>\n",
       "      <td>-0.369307</td>\n",
       "      <td>0.052947</td>\n",
       "    </tr>\n",
       "    <tr>\n",
       "      <th>1</th>\n",
       "      <td>-1.690539</td>\n",
       "      <td>-1.799400</td>\n",
       "      <td>-1.073198</td>\n",
       "    </tr>\n",
       "    <tr>\n",
       "      <th>2</th>\n",
       "      <td>-0.476573</td>\n",
       "      <td>-0.844151</td>\n",
       "      <td>0.032562</td>\n",
       "    </tr>\n",
       "    <tr>\n",
       "      <th>3</th>\n",
       "      <td>2.571181</td>\n",
       "      <td>-0.393893</td>\n",
       "      <td>0.123694</td>\n",
       "    </tr>\n",
       "    <tr>\n",
       "      <th>4</th>\n",
       "      <td>-3.161574</td>\n",
       "      <td>-1.087424</td>\n",
       "      <td>0.995579</td>\n",
       "    </tr>\n",
       "  </tbody>\n",
       "</table>\n",
       "</div>"
      ],
      "text/plain": [
       "        pc1       pc2       pc3\n",
       "0 -2.055220 -0.369307  0.052947\n",
       "1 -1.690539 -1.799400 -1.073198\n",
       "2 -0.476573 -0.844151  0.032562\n",
       "3  2.571181 -0.393893  0.123694\n",
       "4 -3.161574 -1.087424  0.995579"
      ]
     },
     "execution_count": 107,
     "metadata": {},
     "output_type": "execute_result"
    }
   ],
   "source": [
    "pca = PCA(n_components=3, svd_solver='full')\n",
    "PC=pca.fit_transform(X)\n",
    "principalDF=pd.DataFrame(data=PC,columns=['pc1','pc2','pc3'])\n",
    "principalDF.head()\n",
    "\n"
   ]
  },
  {
   "cell_type": "code",
   "execution_count": 115,
   "id": "8c55ad23",
   "metadata": {},
   "outputs": [
    {
     "name": "stdout",
     "output_type": "stream",
     "text": [
      "[0.62845365 0.20485206 0.0777806 ]\n"
     ]
    }
   ],
   "source": [
    "print(pca.explained_variance_ratio_)"
   ]
  },
  {
   "cell_type": "code",
   "execution_count": 109,
   "id": "fe2fce28",
   "metadata": {},
   "outputs": [
    {
     "name": "stdout",
     "output_type": "stream",
     "text": [
      "[14.26951232  8.14690549  5.02005134]\n"
     ]
    }
   ],
   "source": [
    "print(pca.singular_values_)"
   ]
  },
  {
   "cell_type": "code",
   "execution_count": 110,
   "id": "497e990b",
   "metadata": {},
   "outputs": [
    {
     "data": {
      "text/html": [
       "<div>\n",
       "<style scoped>\n",
       "    .dataframe tbody tr th:only-of-type {\n",
       "        vertical-align: middle;\n",
       "    }\n",
       "\n",
       "    .dataframe tbody tr th {\n",
       "        vertical-align: top;\n",
       "    }\n",
       "\n",
       "    .dataframe thead th {\n",
       "        text-align: right;\n",
       "    }\n",
       "</style>\n",
       "<table border=\"1\" class=\"dataframe\">\n",
       "  <thead>\n",
       "    <tr style=\"text-align: right;\">\n",
       "      <th></th>\n",
       "      <th>PC1</th>\n",
       "      <th>PC2</th>\n",
       "      <th>PC3</th>\n",
       "      <th>variable</th>\n",
       "    </tr>\n",
       "  </thead>\n",
       "  <tbody>\n",
       "    <tr>\n",
       "      <th>0</th>\n",
       "      <td>-0.639514</td>\n",
       "      <td>0.653352</td>\n",
       "      <td>0.367721</td>\n",
       "      <td>Alloy Properties</td>\n",
       "    </tr>\n",
       "    <tr>\n",
       "      <th>1</th>\n",
       "      <td>-0.804883</td>\n",
       "      <td>-0.555057</td>\n",
       "      <td>0.096196</td>\n",
       "      <td>Unnamed: 2</td>\n",
       "    </tr>\n",
       "    <tr>\n",
       "      <th>2</th>\n",
       "      <td>0.796503</td>\n",
       "      <td>-0.483003</td>\n",
       "      <td>0.185210</td>\n",
       "      <td>Unnamed: 3</td>\n",
       "    </tr>\n",
       "    <tr>\n",
       "      <th>3</th>\n",
       "      <td>0.898923</td>\n",
       "      <td>-0.000676</td>\n",
       "      <td>0.377587</td>\n",
       "      <td>Unnamed: 4</td>\n",
       "    </tr>\n",
       "    <tr>\n",
       "      <th>4</th>\n",
       "      <td>-0.705408</td>\n",
       "      <td>0.619060</td>\n",
       "      <td>0.315649</td>\n",
       "      <td>Unnamed: 5</td>\n",
       "    </tr>\n",
       "    <tr>\n",
       "      <th>5</th>\n",
       "      <td>0.961982</td>\n",
       "      <td>0.062441</td>\n",
       "      <td>0.204446</td>\n",
       "      <td>Additive Properties</td>\n",
       "    </tr>\n",
       "    <tr>\n",
       "      <th>6</th>\n",
       "      <td>0.911439</td>\n",
       "      <td>0.011834</td>\n",
       "      <td>0.229058</td>\n",
       "      <td>Unnamed: 7</td>\n",
       "    </tr>\n",
       "    <tr>\n",
       "      <th>7</th>\n",
       "      <td>0.849328</td>\n",
       "      <td>0.448063</td>\n",
       "      <td>-0.119370</td>\n",
       "      <td>Unnamed: 8</td>\n",
       "    </tr>\n",
       "    <tr>\n",
       "      <th>8</th>\n",
       "      <td>-0.585919</td>\n",
       "      <td>-0.583147</td>\n",
       "      <td>0.436497</td>\n",
       "      <td>Unnamed: 9</td>\n",
       "    </tr>\n",
       "  </tbody>\n",
       "</table>\n",
       "</div>"
      ],
      "text/plain": [
       "        PC1       PC2       PC3             variable\n",
       "0 -0.639514  0.653352  0.367721     Alloy Properties\n",
       "1 -0.804883 -0.555057  0.096196           Unnamed: 2\n",
       "2  0.796503 -0.483003  0.185210           Unnamed: 3\n",
       "3  0.898923 -0.000676  0.377587           Unnamed: 4\n",
       "4 -0.705408  0.619060  0.315649           Unnamed: 5\n",
       "5  0.961982  0.062441  0.204446  Additive Properties\n",
       "6  0.911439  0.011834  0.229058           Unnamed: 7\n",
       "7  0.849328  0.448063 -0.119370           Unnamed: 8\n",
       "8 -0.585919 -0.583147  0.436497           Unnamed: 9"
      ]
     },
     "execution_count": 110,
     "metadata": {},
     "output_type": "execute_result"
    }
   ],
   "source": [
    "PCloadings = pca.components_.T * np.sqrt(pca.explained_variance_)\n",
    "components=df.columns.tolist()\n",
    "components=components[0:9]\n",
    "loadingdf=pd.DataFrame(PCloadings,columns=('PC1','PC2','PC3'))\n",
    "loadingdf[\"variable\"]=components\n",
    "loadingdf"
   ]
  },
  {
   "cell_type": "code",
   "execution_count": null,
   "id": "d8fbe1fa",
   "metadata": {},
   "outputs": [],
   "source": []
  }
 ],
 "metadata": {
  "kernelspec": {
   "display_name": "Python 3",
   "language": "python",
   "name": "python3"
  },
  "language_info": {
   "codemirror_mode": {
    "name": "ipython",
    "version": 3
   },
   "file_extension": ".py",
   "mimetype": "text/x-python",
   "name": "python",
   "nbconvert_exporter": "python",
   "pygments_lexer": "ipython3",
   "version": "3.8.8"
  }
 },
 "nbformat": 4,
 "nbformat_minor": 5
}
